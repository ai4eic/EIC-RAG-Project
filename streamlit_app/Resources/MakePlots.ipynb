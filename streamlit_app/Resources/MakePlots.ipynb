{
 "cells": [
  {
   "cell_type": "markdown",
   "metadata": {},
   "source": [
    "# This notebook is to make relevant plots related to the ingestion and analysis of the input data. \n",
    "\n",
    "## Looking into the dates of the "
   ]
  }
 ],
 "metadata": {
  "kernelspec": {
   "display_name": "env_RAG-EIC",
   "language": "python",
   "name": "python3"
  },
  "language_info": {
   "name": "python",
   "version": "3.10.13"
  }
 },
 "nbformat": 4,
 "nbformat_minor": 2
}
