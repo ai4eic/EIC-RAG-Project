{
 "cells": [
  {
   "cell_type": "code",
   "execution_count": 84,
   "metadata": {},
   "outputs": [],
   "source": [
    "from langchain.prompts import PromptTemplate\n",
    "from langchain_openai import ChatOpenAI\n",
    "from langchain_core.output_parsers import StrOutputParser\n",
    "from langchain_core.runnables import RunnablePassthrough\n",
    "import os\n",
    "from langchain.schema.runnable import RunnableMap\n",
    "\n",
    "os.environ[\"OPENAI_API_KEY\"] = \"asojnwij\"\n",
    "\n",
    "chain = (\n",
    "    PromptTemplate.from_template(\n",
    "        \"\"\"\n",
    "As an AI, you excel at assessing whether you have sufficient information to answer a question. \n",
    "If the question is broad or generic, you should respond as ENOUGH INFO. \n",
    "However, if the question requires additional information for a comprehensive answer, your response should be \"MORE INFO\". \n",
    "Here's the user's query. Please evaluate whether you can provide an answer with the current information or if more details are needed.\n",
    "Remember to only respond with \"MORE INFO\" if you need more information to answer the question.\n",
    "Remember to only respond with \"ENOUGH INFO\" if you have enough information to answer the question.\n",
    "<question>\n",
    "{question}\n",
    "</question>\n",
    "\n",
    "Reponse:\"\"\"\n",
    "    )\n",
    "    | ChatOpenAI()\n",
    "    | StrOutputParser()\n",
    ")\n",
    "def dummy(input):\n",
    "    return \"dummy\"\n",
    "sampleChain = PromptTemplate.from_template(\n",
    "        \"\"\"Simply echo what you are being asked in Question below. Start by saying MoreInfoChain. \n",
    "Question: {question}\n",
    "Answer:\"\"\"\n",
    "    ) | ChatOpenAI() | StrOutputParser()\n",
    "MoreInfoChain = RunnableMap(\n",
    "    {\"documents\": dummy, \"question\": RunnablePassthrough()}\n",
    "    )  | {\"answer\" :  sampleChain}\n",
    "LessInfo = (\n",
    "    PromptTemplate.from_template(\n",
    "        \"\"\"Respond to the question in a fun, calm and prfessional fashion. \n",
    "        Make sure to write a comprehensive answer. \n",
    "        Start by saying LessInfo. \n",
    "Question: {question}\n",
    "Answer:\"\"\"\n",
    "    )\n",
    "    | ChatOpenAI() | {\"answer\" : StrOutputParser()}\n",
    ")\n",
    "\n",
    "general_chain = (\n",
    "    PromptTemplate.from_template(\n",
    "        \"\"\"\n",
    "Respond to the question by having DEFAULT: as a start\n",
    "<question>\n",
    "{question}\n",
    "</question>\n",
    "\"\"\"\n",
    "    ) | ChatOpenAI() | {\"answer\" : StrOutputParser()}\n",
    ")"
   ]
  },
  {
   "cell_type": "code",
   "execution_count": 85,
   "metadata": {},
   "outputs": [],
   "source": [
    "from langchain_core.runnables import RunnableBranch\n",
    "\n",
    "branch = RunnableBranch(\n",
    "    (lambda x: \"more info\" in x[\"topic\"].lower(), MoreInfoChain),\n",
    "    (lambda x: \"enough info\" in x[\"topic\"].lower(), LessInfo),\n",
    "    general_chain,\n",
    ")"
   ]
  },
  {
   "cell_type": "code",
   "execution_count": 86,
   "metadata": {},
   "outputs": [
    {
     "name": "stdout",
     "output_type": "stream",
     "text": [
      "\n",
      "More\n",
      "Info\n",
      "Chain\n",
      " The\n",
      " most\n",
      " recent\n",
      " updates\n",
      " on\n",
      " EC\n",
      "CE\n",
      " tracking\n",
      ".\n",
      "\n"
     ]
    }
   ],
   "source": [
    "full_chain = {\"topic\": chain, \"question\": lambda x: x[\"question\"]} | branch\n",
    "\n",
    "for chunk in full_chain.stream({\"question\": \"What are the most recent updates on ECCE tracking?\"}):\n",
    "    print(chunk.get(\"answer\"))"
   ]
  },
  {
   "cell_type": "code",
   "execution_count": 89,
   "metadata": {},
   "outputs": [
    {
     "data": {
      "text/plain": [
       "'MORE INFO'"
      ]
     },
     "execution_count": 89,
     "metadata": {},
     "output_type": "execute_result"
    }
   ],
   "source": [
    "chain.invoke({\"question\": \"What are the most recent updates on ECCE tracking?\"})"
   ]
  },
  {
   "cell_type": "code",
   "execution_count": null,
   "metadata": {},
   "outputs": [],
   "source": []
  }
 ],
 "metadata": {
  "kernelspec": {
   "display_name": "env_RAG-EIC",
   "language": "python",
   "name": "python3"
  },
  "language_info": {
   "codemirror_mode": {
    "name": "ipython",
    "version": 3
   },
   "file_extension": ".py",
   "mimetype": "text/x-python",
   "name": "python",
   "nbconvert_exporter": "python",
   "pygments_lexer": "ipython3",
   "version": "3.10.13"
  }
 },
 "nbformat": 4,
 "nbformat_minor": 2
}
